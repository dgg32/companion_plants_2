{
 "cells": [
  {
   "cell_type": "code",
   "execution_count": 117,
   "metadata": {},
   "outputs": [],
   "source": [
    "from neo4j import GraphDatabase\n",
    "from graphdatascience import GraphDataScience\n",
    "import yaml"
   ]
  },
  {
   "cell_type": "code",
   "execution_count": 118,
   "metadata": {},
   "outputs": [],
   "source": [
    "with open(\"config.yaml\", \"r\") as stream:\n",
    "    try:\n",
    "        PARAM = yaml.safe_load(stream)\n",
    "    except yaml.YAMLError as exc:\n",
    "        print(exc)"
   ]
  },
  {
   "cell_type": "code",
   "execution_count": 119,
   "metadata": {},
   "outputs": [],
   "source": [
    "url = \"bolt://localhost:7687\"\n",
    "driver = GraphDatabase.driver(url, auth=(PARAM[\"neo4j_username\"], PARAM[\"neo4j_password\"]))\n",
    "gds = GraphDataScience(url, auth=(PARAM[\"neo4j_username\"], PARAM[\"neo4j_password\"]))"
   ]
  },
  {
   "cell_type": "code",
   "execution_count": 120,
   "metadata": {},
   "outputs": [
    {
     "name": "stdout",
     "output_type": "stream",
     "text": [
      "The supportive plants are:  ['alfalfa', 'brassica', 'bush bean', 'cabbage', 'clover', 'corn', 'crownvetch', 'dead nettle', 'fava bean', 'flax', 'garlic', 'horseradish', 'lentil', 'lovage', 'lupin', 'marigold', 'onion', 'pea', 'peanut', 'pole bean', 'soybean', 'tarragon', 'thyme', 'vetch', 'yarrow']\n",
      "{'pole bean': [3, {'garlic', 'brassica', 'onion'}], 'pea': [2, {'garlic', 'onion'}], 'fava bean': [3, {'alfalfa', 'onion', 'garlic'}], 'thyme': [1, {'tarragon'}], 'brassica': [1, {'pole bean'}], 'tarragon': [1, {'thyme'}], 'bush bean': [4, {'alfalfa', 'onion', 'soybean', 'garlic'}], 'clover': [2, {'garlic', 'onion'}], 'lentil': [2, {'garlic', 'onion'}], 'peanut': [2, {'garlic', 'onion'}], 'onion': [12, {'pole bean', 'soybean', 'fava bean', 'peanut', 'lentil', 'vetch', 'crownvetch', 'alfalfa', 'lupin', 'pea', 'clover', 'bush bean'}], 'vetch': [2, {'garlic', 'onion'}], 'soybean': [3, {'garlic', 'onion', 'bush bean'}], 'alfalfa': [4, {'garlic', 'onion', 'fava bean', 'bush bean'}], 'cabbage': [1, {'garlic'}], 'crownvetch': [2, {'garlic', 'onion'}], 'garlic': [13, {'pole bean', 'cabbage', 'soybean', 'fava bean', 'peanut', 'lentil', 'vetch', 'crownvetch', 'alfalfa', 'lupin', 'pea', 'clover', 'bush bean'}], 'lupin': [2, {'garlic', 'onion'}]}\n",
      "garlic\n",
      "{'pole bean': [2, {'brassica', 'onion'}], 'pea': [1, {'onion'}], 'fava bean': [2, {'alfalfa', 'onion'}], 'thyme': [1, {'tarragon'}], 'brassica': [1, {'pole bean'}], 'tarragon': [1, {'thyme'}], 'bush bean': [3, {'alfalfa', 'onion', 'soybean'}], 'clover': [1, {'onion'}], 'lentil': [1, {'onion'}], 'peanut': [1, {'onion'}], 'onion': [12, {'pole bean', 'soybean', 'fava bean', 'peanut', 'lentil', 'vetch', 'crownvetch', 'alfalfa', 'lupin', 'pea', 'clover', 'bush bean'}], 'vetch': [1, {'onion'}], 'soybean': [2, {'onion', 'bush bean'}], 'alfalfa': [3, {'onion', 'fava bean', 'bush bean'}], 'crownvetch': [1, {'onion'}], 'lupin': [1, {'onion'}]}\n",
      "onion\n",
      "{'pole bean': [1, {'brassica'}], 'fava bean': [1, {'alfalfa'}], 'thyme': [1, {'tarragon'}], 'brassica': [1, {'pole bean'}], 'tarragon': [1, {'thyme'}], 'bush bean': [2, {'alfalfa', 'soybean'}], 'soybean': [1, {'bush bean'}], 'alfalfa': [2, {'fava bean', 'bush bean'}]}\n",
      "bush bean\n",
      "{'pole bean': [1, {'brassica'}], 'fava bean': [1, {'alfalfa'}], 'thyme': [1, {'tarragon'}], 'brassica': [1, {'pole bean'}], 'tarragon': [1, {'thyme'}], 'alfalfa': [1, {'fava bean'}]}\n",
      "pole bean\n",
      "{'fava bean': [1, {'alfalfa'}], 'thyme': [1, {'tarragon'}], 'tarragon': [1, {'thyme'}], 'alfalfa': [1, {'fava bean'}]}\n",
      "fava bean\n",
      "{'thyme': [1, {'tarragon'}], 'tarragon': [1, {'thyme'}]}\n",
      "thyme\n",
      "{}\n",
      "After removing all the AVOIDS:  ['alfalfa', 'brassica', 'cabbage', 'clover', 'corn', 'crownvetch', 'dead nettle', 'flax', 'horseradish', 'lentil', 'lovage', 'lupin', 'marigold', 'pea', 'peanut', 'soybean', 'tarragon', 'vetch', 'yarrow']\n"
     ]
    }
   ],
   "source": [
    "#### avoid-free supportive plants for potatoes by counting AVOIDS \n",
    "\n",
    "with driver.session() as session:\n",
    "    result = session.run('MATCH (p1:Plant)-[r:HELPS]->(p:Plant {name: \"potato\"}) RETURN p1')\n",
    "    supportive = [r[\"p1\"][\"name\"] for r in result]\n",
    "    print (\"The supportive plants are: \", sorted(supportive))\n",
    "    \n",
    "    plant_antagonist_count = {\"dummy\": 0}\n",
    "\n",
    "    while len(plant_antagonist_count) > 0:\n",
    "\n",
    "        plant_antagonist_count = {}\n",
    "\n",
    "        for plant_name in supportive:\n",
    "\n",
    "            result = session.run(f'MATCH (p1:Plant {{name: \"{plant_name}\"}})-[r:AVOIDS]-(p:Plant) RETURN p')\n",
    "            \n",
    "            antagonists = set([r[\"p\"][\"name\"] for r in result]).intersection(supportive)\n",
    "\n",
    "            if len(antagonists) > 0:\n",
    "                plant_antagonist_count[plant_name] = [len(antagonists), antagonists]\n",
    "            \n",
    "        \n",
    "        print (plant_antagonist_count)\n",
    "\n",
    "        if len(plant_antagonist_count) > 0:\n",
    "            most_avoided = sorted(plant_antagonist_count.items(), key=lambda x: x[1][0], reverse=True)[0][0]\n",
    "            print (most_avoided)\n",
    "            supportive.remove(most_avoided)\n",
    "\n",
    "    print (\"After removing all the AVOIDS: \", sorted(supportive))\n",
    "\n"
   ]
  },
  {
   "cell_type": "code",
   "execution_count": 121,
   "metadata": {},
   "outputs": [
    {
     "name": "stdout",
     "output_type": "stream",
     "text": [
      "The supportive plants are:  ['alfalfa', 'brassica', 'bush bean', 'cabbage', 'clover', 'corn', 'crownvetch', 'dead nettle', 'fava bean', 'flax', 'garlic', 'horseradish', 'lentil', 'lovage', 'lupin', 'marigold', 'onion', 'pea', 'peanut', 'pole bean', 'soybean', 'tarragon', 'thyme', 'vetch', 'yarrow']\n",
      "After removing all the AVOIDS:  ['cabbage', 'clover', 'corn', 'crownvetch', 'dead nettle', 'fava bean', 'flax', 'horseradish', 'lentil', 'lovage', 'lupin', 'marigold', 'pea', 'peanut', 'pole bean', 'soybean', 'thyme', 'vetch', 'yarrow']\n"
     ]
    }
   ],
   "source": [
    "#### avoid-free supportive plants for potatoes with Degree Centrality from GDS\n",
    "\n",
    "with driver.session() as session:\n",
    "    result = session.run('MATCH (p1:Plant)-[r:HELPS]->(p:Plant {name: \"potato\"}) RETURN p1')\n",
    "    supportive = [r[\"p1\"][\"name\"] for r in result]\n",
    "    print (\"The supportive plants are: \", sorted(supportive))\n",
    "\n",
    "    go = True\n",
    "\n",
    "    while go == True:\n",
    "        if gds.graph.exists(\"supportive_plants\")[\"exists\"]:\n",
    "            gds.graph.drop(gds.graph.get(\"supportive_plants\"))\n",
    "\n",
    "        G, res = gds.graph.project.cypher('supportive_plants',\n",
    "        f'MATCH (p1:Plant)-[r:HELPS]->(p:Plant {{name: \"potato\"}}) WHERE p1.name in {supportive} RETURN id(p1) AS id',\n",
    "        f'MATCH (p1:Plant)-[r:AVOIDS]->(p2:Plant) WHERE p1.name in {supportive} AND p2.name in {supportive} RETURN id(p1) AS source, id(p2) AS target'\n",
    "        )\n",
    "        \n",
    "        df = gds.degree.stream(G)\n",
    "        l = gds.util.asNodes((df['nodeId'].to_list()))\n",
    "\n",
    "        df['name'] = [x[\"name\"] for x in l]\n",
    "\n",
    "        most_avoided = df.loc[df[\"score\"].idxmax()]\n",
    "        most_avoided_name = df.loc[df[\"score\"].idxmax()][\"name\"]\n",
    "        most_avoided_score = df.loc[df[\"score\"].idxmax()][\"score\"]\n",
    "\n",
    "        supportive.remove(most_avoided_name)\n",
    "\n",
    "        if df[\"score\"].nlargest(2).iloc[1] == 0:\n",
    "            go = False\n",
    "\n",
    "    print (\"After removing all the AVOIDS: \", sorted(supportive))\n"
   ]
  },
  {
   "cell_type": "code",
   "execution_count": null,
   "metadata": {},
   "outputs": [],
   "source": []
  },
  {
   "cell_type": "code",
   "execution_count": null,
   "metadata": {},
   "outputs": [],
   "source": []
  }
 ],
 "metadata": {
  "kernelspec": {
   "display_name": "Python 3.8.10 64-bit",
   "language": "python",
   "name": "python3"
  },
  "language_info": {
   "codemirror_mode": {
    "name": "ipython",
    "version": 3
   },
   "file_extension": ".py",
   "mimetype": "text/x-python",
   "name": "python",
   "nbconvert_exporter": "python",
   "pygments_lexer": "ipython3",
   "version": "3.8.10"
  },
  "orig_nbformat": 4,
  "vscode": {
   "interpreter": {
    "hash": "916dbcbb3f70747c44a77c7bcd40155683ae19c65e1c03b4aa3499c5328201f1"
   }
  }
 },
 "nbformat": 4,
 "nbformat_minor": 2
}
