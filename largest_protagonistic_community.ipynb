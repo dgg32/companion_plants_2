{
 "cells": [
  {
   "cell_type": "code",
   "execution_count": 39,
   "metadata": {},
   "outputs": [],
   "source": [
    "from neo4j import GraphDatabase\n",
    "from graphdatascience import GraphDataScience\n",
    "import yaml"
   ]
  },
  {
   "cell_type": "code",
   "execution_count": 40,
   "metadata": {},
   "outputs": [],
   "source": [
    "with open(\"config.yaml\", \"r\") as stream:\n",
    "    try:\n",
    "        PARAM = yaml.safe_load(stream)\n",
    "    except yaml.YAMLError as exc:\n",
    "        print(exc)"
   ]
  },
  {
   "cell_type": "code",
   "execution_count": 41,
   "metadata": {},
   "outputs": [],
   "source": [
    "url = \"bolt://localhost:7687\"\n",
    "driver = GraphDatabase.driver(url, auth=(PARAM[\"neo4j_username\"], PARAM[\"neo4j_password\"]))\n",
    "gds = GraphDataScience(url, auth=(PARAM[\"neo4j_username\"], PARAM[\"neo4j_password\"]))"
   ]
  },
  {
   "cell_type": "code",
   "execution_count": 42,
   "metadata": {},
   "outputs": [
    {
     "name": "stdout",
     "output_type": "stream",
     "text": [
      "The supportive plants are:  ['alfalfa', 'basil', 'brassica', 'bush bean', 'cabbage', 'carrot', 'chive', 'clover', 'corn', 'crownvetch', 'dead nettle', 'fava bean', 'flax', 'garlic', 'horseradish', 'leek', 'lentil', 'lovage', 'lupin', 'marigold', 'mint', 'onion', 'oregano', 'pea', 'peanut', 'pole bean', 'soybean', 'tarragon', 'thyme', 'vetch', 'yarrow']\n",
      "After removing all the AVOIDS:  ['basil', 'bush bean', 'cabbage', 'carrot', 'clover', 'corn', 'crownvetch', 'dead nettle', 'fava bean', 'flax', 'horseradish', 'lentil', 'lovage', 'lupin', 'marigold', 'mint', 'pea', 'peanut', 'pole bean', 'tarragon', 'vetch', 'yarrow']\n"
     ]
    }
   ],
   "source": [
    "#### avoid-free supportive plants for potatoes by counting AVOIDS \n",
    "\n",
    "with driver.session() as session:\n",
    "    result = session.run('MATCH (p1:Plant)-[r:HELPS]->(p:Plant {name: \"potato\"}) RETURN p1')\n",
    "    supportive = [r[\"p1\"][\"name\"] for r in result]\n",
    "    print (\"The supportive plants are: \", sorted(supportive))\n",
    "    \n",
    "    plant_antagonist_count = {\"dummy\": 0}\n",
    "\n",
    "    while len(plant_antagonist_count) > 0:\n",
    "\n",
    "        plant_antagonist_count = {}\n",
    "\n",
    "        for plant_name in supportive:\n",
    "\n",
    "            result = session.run(f'MATCH (p1:Plant {{name: \"{plant_name}\"}})-[r:AVOIDS]-(p:Plant) RETURN p')\n",
    "            \n",
    "            antagonists = set([r[\"p\"][\"name\"] for r in result]).intersection(supportive)\n",
    "\n",
    "            if len(antagonists) > 0:\n",
    "                plant_antagonist_count[plant_name] = [len(antagonists), antagonists]\n",
    "            \n",
    "        \n",
    "        #print (plant_antagonist_count)\n",
    "\n",
    "        if len(plant_antagonist_count) > 0:\n",
    "            most_avoided = sorted(plant_antagonist_count.items(), key=lambda x: x[1][0], reverse=True)[0][0]\n",
    "            #print (most_avoided)\n",
    "            supportive.remove(most_avoided)\n",
    "\n",
    "    print (\"After removing all the AVOIDS: \", sorted(supportive))\n",
    "\n"
   ]
  },
  {
   "cell_type": "code",
   "execution_count": 43,
   "metadata": {},
   "outputs": [
    {
     "name": "stdout",
     "output_type": "stream",
     "text": [
      "The supportive plants are:  ['alfalfa', 'basil', 'brassica', 'bush bean', 'cabbage', 'carrot', 'chive', 'clover', 'corn', 'crownvetch', 'dead nettle', 'fava bean', 'flax', 'garlic', 'horseradish', 'leek', 'lentil', 'lovage', 'lupin', 'marigold', 'mint', 'onion', 'oregano', 'pea', 'peanut', 'pole bean', 'soybean', 'tarragon', 'thyme', 'vetch', 'yarrow']\n",
      "After removing all the AVOIDS:  ['basil', 'bush bean', 'cabbage', 'carrot', 'clover', 'corn', 'crownvetch', 'dead nettle', 'fava bean', 'flax', 'horseradish', 'lentil', 'lovage', 'lupin', 'marigold', 'mint', 'pea', 'peanut', 'pole bean', 'tarragon', 'vetch', 'yarrow']\n"
     ]
    }
   ],
   "source": [
    "#### avoid-free supportive plants for potatoes with Degree Centrality from GDS\n",
    "\n",
    "with driver.session() as session:\n",
    "    result = session.run('MATCH (p1:Plant)-[r:HELPS]->(p:Plant {name: \"potato\"}) RETURN p1')\n",
    "    supportive = [r[\"p1\"][\"name\"] for r in result]\n",
    "    print (\"The supportive plants are: \", sorted(supportive))\n",
    "\n",
    "    go = True\n",
    "\n",
    "    while go == True:\n",
    "        if gds.graph.exists(\"supportive_plants\")[\"exists\"]:\n",
    "            gds.graph.drop(gds.graph.get(\"supportive_plants\"))\n",
    "\n",
    "        G, res = gds.graph.project.cypher('supportive_plants',\n",
    "        f'MATCH (p1:Plant)-[r:HELPS]->(p:Plant {{name: \"potato\"}}) WHERE p1.name in {supportive} RETURN id(p1) AS id',\n",
    "        f'MATCH (p1:Plant)-[r:AVOIDS]-(p2:Plant) WHERE p1.name in {supportive} AND p2.name in {supportive} RETURN id(p1) AS source, id(p2) AS target, type(r) AS type'\n",
    "        )\n",
    "        \n",
    "        df = gds.degree.stream(G)\n",
    "        l = gds.util.asNodes((df['nodeId'].to_list()))\n",
    "\n",
    "        df['name'] = [x[\"name\"] for x in l]\n",
    "\n",
    "        if df[\"score\"].max() > 0:\n",
    "            most_avoided = df.loc[df[\"score\"].idxmax()]\n",
    "            most_avoided_name = df.loc[df[\"score\"].idxmax()][\"name\"]\n",
    "            most_avoided_score = df.loc[df[\"score\"].idxmax()][\"score\"]\n",
    "\n",
    "            supportive.remove(most_avoided_name)\n",
    "\n",
    "        ### We look at the third largest because in the last round, after the max removal, \n",
    "        ### the second largest becomes 0 and it has already fulfilled our goal.\n",
    "        ### otherwise it errors out with \n",
    "        ### \"Failed to invoke procedure `gds.degree.stream`: Caused by: java.lang.NullPointerException\"\n",
    "        if df[\"score\"].nlargest(3).iloc[2] == 0:\n",
    "            go = False\n",
    "\n",
    "    print (\"After removing all the AVOIDS: \", sorted(supportive))\n"
   ]
  },
  {
   "cell_type": "code",
   "execution_count": null,
   "metadata": {},
   "outputs": [],
   "source": []
  },
  {
   "cell_type": "code",
   "execution_count": null,
   "metadata": {},
   "outputs": [],
   "source": []
  }
 ],
 "metadata": {
  "kernelspec": {
   "display_name": "Python 3.9.7 ('base')",
   "language": "python",
   "name": "python3"
  },
  "language_info": {
   "codemirror_mode": {
    "name": "ipython",
    "version": 3
   },
   "file_extension": ".py",
   "mimetype": "text/x-python",
   "name": "python",
   "nbconvert_exporter": "python",
   "pygments_lexer": "ipython3",
   "version": "3.9.7"
  },
  "orig_nbformat": 4,
  "vscode": {
   "interpreter": {
    "hash": "ad2bdc8ecc057115af97d19610ffacc2b4e99fae6737bb82f5d7fb13d2f2c186"
   }
  }
 },
 "nbformat": 4,
 "nbformat_minor": 2
}
