{
 "cells": [
  {
   "cell_type": "code",
   "execution_count": 1,
   "metadata": {},
   "outputs": [],
   "source": [
    "from neo4j import GraphDatabase\n",
    "from graphdatascience import GraphDataScience\n",
    "import yaml"
   ]
  },
  {
   "cell_type": "code",
   "execution_count": 2,
   "metadata": {},
   "outputs": [],
   "source": [
    "with open(\"config.yaml\", \"r\") as stream:\n",
    "    try:\n",
    "        PARAM = yaml.safe_load(stream)\n",
    "    except yaml.YAMLError as exc:\n",
    "        print(exc)"
   ]
  },
  {
   "cell_type": "code",
   "execution_count": 3,
   "metadata": {},
   "outputs": [],
   "source": [
    "url = \"bolt://localhost:7687\"\n",
    "driver = GraphDatabase.driver(url, auth=(PARAM[\"neo4j_username\"], PARAM[\"neo4j_password\"]))\n",
    "gds = GraphDataScience(url, auth=(PARAM[\"neo4j_username\"], PARAM[\"neo4j_password\"]))"
   ]
  },
  {
   "cell_type": "code",
   "execution_count": 4,
   "metadata": {},
   "outputs": [
    {
     "name": "stdout",
     "output_type": "stream",
     "text": [
      "The supportive plants are:  ['alfalfa', 'basil', 'brassica', 'bush bean', 'cabbage', 'carrot', 'chive', 'clover', 'corn', 'crownvetch', 'dead nettle', 'fava bean', 'flax', 'garlic', 'horseradish', 'leek', 'lentil', 'lovage', 'lupin', 'marigold', 'mint', 'onion', 'oregano', 'pea', 'peanut', 'pole bean', 'soybean', 'tarragon', 'thyme', 'vetch', 'yarrow']\n",
      "{'peanut': [4, {'onion', 'garlic', 'leek', 'chive'}], 'onion': [12, {'fava bean', 'soybean', 'peanut', 'alfalfa', 'lupin', 'bush bean', 'pole bean', 'lentil', 'crownvetch', 'clover', 'pea', 'vetch'}], 'alfalfa': [6, {'fava bean', 'garlic', 'leek', 'chive', 'onion', 'bush bean'}], 'brassica': [1, {'pole bean'}], 'fava bean': [5, {'garlic', 'leek', 'chive', 'onion', 'alfalfa'}], 'pea': [4, {'onion', 'garlic', 'leek', 'chive'}], 'thyme': [2, {'basil', 'tarragon'}], 'vetch': [4, {'onion', 'garlic', 'leek', 'chive'}], 'soybean': [5, {'garlic', 'leek', 'chive', 'onion', 'bush bean'}], 'cabbage': [1, {'garlic'}], 'lupin': [4, {'onion', 'garlic', 'leek', 'chive'}], 'clover': [4, {'onion', 'garlic', 'leek', 'chive'}], 'bush bean': [6, {'soybean', 'garlic', 'leek', 'chive', 'onion', 'alfalfa'}], 'leek': [12, {'fava bean', 'soybean', 'peanut', 'alfalfa', 'lupin', 'bush bean', 'pole bean', 'lentil', 'crownvetch', 'clover', 'pea', 'vetch'}], 'chive': [12, {'fava bean', 'soybean', 'peanut', 'alfalfa', 'lupin', 'bush bean', 'pole bean', 'lentil', 'crownvetch', 'clover', 'pea', 'vetch'}], 'oregano': [1, {'tarragon'}], 'pole bean': [5, {'garlic', 'leek', 'chive', 'onion', 'brassica'}], 'garlic': [13, {'fava bean', 'soybean', 'clover', 'peanut', 'alfalfa', 'lupin', 'bush bean', 'pole bean', 'lentil', 'crownvetch', 'cabbage', 'pea', 'vetch'}], 'lentil': [4, {'onion', 'garlic', 'leek', 'chive'}], 'basil': [1, {'thyme'}], 'tarragon': [2, {'thyme', 'oregano'}], 'crownvetch': [4, {'onion', 'garlic', 'leek', 'chive'}]}\n",
      "garlic\n",
      "{'peanut': [3, {'onion', 'leek', 'chive'}], 'onion': [12, {'fava bean', 'soybean', 'peanut', 'alfalfa', 'lupin', 'bush bean', 'pole bean', 'lentil', 'crownvetch', 'clover', 'pea', 'vetch'}], 'alfalfa': [5, {'fava bean', 'leek', 'chive', 'onion', 'bush bean'}], 'brassica': [1, {'pole bean'}], 'fava bean': [4, {'onion', 'chive', 'leek', 'alfalfa'}], 'pea': [3, {'onion', 'leek', 'chive'}], 'thyme': [2, {'basil', 'tarragon'}], 'vetch': [3, {'onion', 'leek', 'chive'}], 'soybean': [4, {'onion', 'bush bean', 'leek', 'chive'}], 'lupin': [3, {'onion', 'leek', 'chive'}], 'clover': [3, {'onion', 'leek', 'chive'}], 'bush bean': [5, {'soybean', 'leek', 'chive', 'onion', 'alfalfa'}], 'leek': [12, {'fava bean', 'soybean', 'peanut', 'alfalfa', 'lupin', 'bush bean', 'pole bean', 'lentil', 'crownvetch', 'clover', 'pea', 'vetch'}], 'chive': [12, {'fava bean', 'soybean', 'peanut', 'alfalfa', 'lupin', 'bush bean', 'pole bean', 'lentil', 'crownvetch', 'clover', 'pea', 'vetch'}], 'oregano': [1, {'tarragon'}], 'pole bean': [4, {'onion', 'brassica', 'leek', 'chive'}], 'lentil': [3, {'onion', 'leek', 'chive'}], 'basil': [1, {'thyme'}], 'tarragon': [2, {'thyme', 'oregano'}], 'crownvetch': [3, {'onion', 'leek', 'chive'}]}\n",
      "onion\n",
      "{'peanut': [2, {'leek', 'chive'}], 'alfalfa': [4, {'fava bean', 'bush bean', 'leek', 'chive'}], 'brassica': [1, {'pole bean'}], 'fava bean': [3, {'alfalfa', 'leek', 'chive'}], 'pea': [2, {'leek', 'chive'}], 'thyme': [2, {'basil', 'tarragon'}], 'vetch': [2, {'leek', 'chive'}], 'soybean': [3, {'bush bean', 'leek', 'chive'}], 'lupin': [2, {'leek', 'chive'}], 'clover': [2, {'leek', 'chive'}], 'bush bean': [4, {'alfalfa', 'soybean', 'leek', 'chive'}], 'leek': [12, {'fava bean', 'soybean', 'peanut', 'alfalfa', 'lupin', 'bush bean', 'pole bean', 'lentil', 'crownvetch', 'clover', 'pea', 'vetch'}], 'chive': [12, {'fava bean', 'soybean', 'peanut', 'alfalfa', 'lupin', 'bush bean', 'pole bean', 'lentil', 'crownvetch', 'clover', 'pea', 'vetch'}], 'oregano': [1, {'tarragon'}], 'pole bean': [3, {'brassica', 'leek', 'chive'}], 'lentil': [2, {'leek', 'chive'}], 'basil': [1, {'thyme'}], 'tarragon': [2, {'thyme', 'oregano'}], 'crownvetch': [2, {'leek', 'chive'}]}\n",
      "leek\n",
      "{'peanut': [1, {'chive'}], 'alfalfa': [3, {'fava bean', 'bush bean', 'chive'}], 'brassica': [1, {'pole bean'}], 'fava bean': [2, {'alfalfa', 'chive'}], 'pea': [1, {'chive'}], 'thyme': [2, {'basil', 'tarragon'}], 'vetch': [1, {'chive'}], 'soybean': [2, {'bush bean', 'chive'}], 'lupin': [1, {'chive'}], 'clover': [1, {'chive'}], 'bush bean': [3, {'alfalfa', 'soybean', 'chive'}], 'chive': [12, {'fava bean', 'soybean', 'peanut', 'alfalfa', 'lupin', 'bush bean', 'pole bean', 'lentil', 'crownvetch', 'clover', 'pea', 'vetch'}], 'oregano': [1, {'tarragon'}], 'pole bean': [2, {'brassica', 'chive'}], 'lentil': [1, {'chive'}], 'basil': [1, {'thyme'}], 'tarragon': [2, {'thyme', 'oregano'}], 'crownvetch': [1, {'chive'}]}\n",
      "chive\n",
      "{'alfalfa': [2, {'fava bean', 'bush bean'}], 'brassica': [1, {'pole bean'}], 'fava bean': [1, {'alfalfa'}], 'thyme': [2, {'basil', 'tarragon'}], 'soybean': [1, {'bush bean'}], 'bush bean': [2, {'alfalfa', 'soybean'}], 'oregano': [1, {'tarragon'}], 'pole bean': [1, {'brassica'}], 'basil': [1, {'thyme'}], 'tarragon': [2, {'thyme', 'oregano'}]}\n",
      "alfalfa\n",
      "{'brassica': [1, {'pole bean'}], 'thyme': [2, {'basil', 'tarragon'}], 'soybean': [1, {'bush bean'}], 'bush bean': [1, {'soybean'}], 'oregano': [1, {'tarragon'}], 'pole bean': [1, {'brassica'}], 'basil': [1, {'thyme'}], 'tarragon': [2, {'thyme', 'oregano'}]}\n",
      "thyme\n",
      "{'brassica': [1, {'pole bean'}], 'soybean': [1, {'bush bean'}], 'bush bean': [1, {'soybean'}], 'oregano': [1, {'tarragon'}], 'pole bean': [1, {'brassica'}], 'tarragon': [1, {'oregano'}]}\n",
      "brassica\n",
      "{'soybean': [1, {'bush bean'}], 'bush bean': [1, {'soybean'}], 'oregano': [1, {'tarragon'}], 'tarragon': [1, {'oregano'}]}\n",
      "soybean\n",
      "{'oregano': [1, {'tarragon'}], 'tarragon': [1, {'oregano'}]}\n",
      "oregano\n",
      "{}\n",
      "After removing all the AVOIDS:  ['basil', 'bush bean', 'cabbage', 'carrot', 'clover', 'corn', 'crownvetch', 'dead nettle', 'fava bean', 'flax', 'horseradish', 'lentil', 'lovage', 'lupin', 'marigold', 'mint', 'pea', 'peanut', 'pole bean', 'tarragon', 'vetch', 'yarrow']\n"
     ]
    }
   ],
   "source": [
    "#### avoid-free supportive plants for potatoes by counting AVOIDS \n",
    "\n",
    "with driver.session() as session:\n",
    "    result = session.run('MATCH (p1:Plant)-[r:HELPS]->(p:Plant {name: \"potato\"}) RETURN p1')\n",
    "    supportive = [r[\"p1\"][\"name\"] for r in result]\n",
    "    print (\"The supportive plants are: \", sorted(supportive))\n",
    "    \n",
    "    plant_antagonist_count = {\"dummy\": 0}\n",
    "\n",
    "    while len(plant_antagonist_count) > 0:\n",
    "\n",
    "        plant_antagonist_count = {}\n",
    "\n",
    "        for plant_name in supportive:\n",
    "\n",
    "            result = session.run(f'MATCH (p1:Plant {{name: \"{plant_name}\"}})-[r:AVOIDS]-(p:Plant) RETURN p')\n",
    "            \n",
    "            antagonists = set([r[\"p\"][\"name\"] for r in result]).intersection(supportive)\n",
    "\n",
    "            if len(antagonists) > 0:\n",
    "                plant_antagonist_count[plant_name] = [len(antagonists), antagonists]\n",
    "            \n",
    "        \n",
    "        print (plant_antagonist_count)\n",
    "\n",
    "        if len(plant_antagonist_count) > 0:\n",
    "            most_avoided = sorted(plant_antagonist_count.items(), key=lambda x: x[1][0], reverse=True)[0][0]\n",
    "            print (most_avoided)\n",
    "            supportive.remove(most_avoided)\n",
    "\n",
    "    print (\"After removing all the AVOIDS: \", sorted(supportive))\n",
    "\n"
   ]
  },
  {
   "cell_type": "code",
   "execution_count": 5,
   "metadata": {},
   "outputs": [
    {
     "name": "stdout",
     "output_type": "stream",
     "text": [
      "The supportive plants are:  ['alfalfa', 'basil', 'brassica', 'bush bean', 'cabbage', 'carrot', 'chive', 'clover', 'corn', 'crownvetch', 'dead nettle', 'fava bean', 'flax', 'garlic', 'horseradish', 'leek', 'lentil', 'lovage', 'lupin', 'marigold', 'mint', 'onion', 'oregano', 'pea', 'peanut', 'pole bean', 'soybean', 'tarragon', 'thyme', 'vetch', 'yarrow']\n",
      "After removing all the AVOIDS:  ['cabbage', 'carrot', 'clover', 'corn', 'crownvetch', 'dead nettle', 'fava bean', 'flax', 'horseradish', 'lentil', 'lovage', 'lupin', 'marigold', 'mint', 'pea', 'peanut', 'pole bean', 'soybean', 'thyme', 'vetch', 'yarrow']\n"
     ]
    }
   ],
   "source": [
    "#### avoid-free supportive plants for potatoes with Degree Centrality from GDS\n",
    "\n",
    "with driver.session() as session:\n",
    "    result = session.run('MATCH (p1:Plant)-[r:HELPS]->(p:Plant {name: \"potato\"}) RETURN p1')\n",
    "    supportive = [r[\"p1\"][\"name\"] for r in result]\n",
    "    print (\"The supportive plants are: \", sorted(supportive))\n",
    "\n",
    "    go = True\n",
    "\n",
    "    while go == True:\n",
    "        if gds.graph.exists(\"supportive_plants\")[\"exists\"]:\n",
    "            gds.graph.drop(gds.graph.get(\"supportive_plants\"))\n",
    "\n",
    "        G, res = gds.graph.project.cypher('supportive_plants',\n",
    "        f'MATCH (p1:Plant)-[r:HELPS]->(p:Plant {{name: \"potato\"}}) WHERE p1.name in {supportive} RETURN id(p1) AS id',\n",
    "        f'MATCH (p1:Plant)-[r:AVOIDS]->(p2:Plant) WHERE p1.name in {supportive} AND p2.name in {supportive} RETURN id(p1) AS source, id(p2) AS target'\n",
    "        )\n",
    "        \n",
    "        df = gds.degree.stream(G)\n",
    "        l = gds.util.asNodes((df['nodeId'].to_list()))\n",
    "\n",
    "        df['name'] = [x[\"name\"] for x in l]\n",
    "\n",
    "        most_avoided = df.loc[df[\"score\"].idxmax()]\n",
    "        most_avoided_name = df.loc[df[\"score\"].idxmax()][\"name\"]\n",
    "        most_avoided_score = df.loc[df[\"score\"].idxmax()][\"score\"]\n",
    "\n",
    "        supportive.remove(most_avoided_name)\n",
    "\n",
    "        if df[\"score\"].nlargest(2).iloc[1] == 0:\n",
    "            go = False\n",
    "\n",
    "    print (\"After removing all the AVOIDS: \", sorted(supportive))\n"
   ]
  },
  {
   "cell_type": "code",
   "execution_count": null,
   "metadata": {},
   "outputs": [],
   "source": []
  },
  {
   "cell_type": "code",
   "execution_count": null,
   "metadata": {},
   "outputs": [],
   "source": []
  }
 ],
 "metadata": {
  "kernelspec": {
   "display_name": "Python 3.9.7 ('base')",
   "language": "python",
   "name": "python3"
  },
  "language_info": {
   "codemirror_mode": {
    "name": "ipython",
    "version": 3
   },
   "file_extension": ".py",
   "mimetype": "text/x-python",
   "name": "python",
   "nbconvert_exporter": "python",
   "pygments_lexer": "ipython3",
   "version": "3.9.7"
  },
  "orig_nbformat": 4,
  "vscode": {
   "interpreter": {
    "hash": "ad2bdc8ecc057115af97d19610ffacc2b4e99fae6737bb82f5d7fb13d2f2c186"
   }
  }
 },
 "nbformat": 4,
 "nbformat_minor": 2
}
