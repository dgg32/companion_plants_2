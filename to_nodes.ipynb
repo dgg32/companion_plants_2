{
 "cells": [
  {
   "cell_type": "code",
   "execution_count": 70,
   "metadata": {},
   "outputs": [],
   "source": [
    "import pandas as pd\n",
    "import numpy as np\n",
    "import re\n",
    "import inflect\n",
    "import pandas as pd\n",
    "from neo4j import GraphDatabase\n",
    "import yaml\n",
    "import shutil\n",
    "import os\n",
    "from pathlib import Path\n",
    "\n"
   ]
  },
  {
   "cell_type": "code",
   "execution_count": 71,
   "metadata": {},
   "outputs": [],
   "source": [
    "with open(\"config.yaml\", \"r\") as stream:\n",
    "    try:\n",
    "        PARAM = yaml.safe_load(stream)\n",
    "    except yaml.YAMLError as exc:\n",
    "        print(exc)"
   ]
  },
  {
   "cell_type": "code",
   "execution_count": 72,
   "metadata": {},
   "outputs": [],
   "source": [
    "\n",
    "p = inflect.engine()"
   ]
  },
  {
   "cell_type": "code",
   "execution_count": 73,
   "metadata": {},
   "outputs": [
    {
     "data": {
      "text/plain": [
       "'allium'"
      ]
     },
     "execution_count": 73,
     "metadata": {},
     "output_type": "execute_result"
    }
   ],
   "source": [
    "p.singular_noun('alliums')"
   ]
  },
  {
   "cell_type": "code",
   "execution_count": 74,
   "metadata": {},
   "outputs": [],
   "source": [
    "sheet_id = PARAM[\"google_sheet_id\"]\n",
    "sheet_name = PARAM[\"google_sheet_node_name\"]\n",
    "taxonomy_name = PARAM[\"google_sheet_taxonomy_name\"]\n",
    "synonym_name = PARAM[\"google_sheet_synonyms\"]\n",
    "url = f\"https://docs.google.com/spreadsheets/d/{sheet_id}/gviz/tq?tqx=out:csv&sheet={sheet_name}\"\n",
    "df = pd.read_csv(url)\n",
    "\n",
    "taxonomy_url = f\"https://docs.google.com/spreadsheets/d/{sheet_id}/gviz/tq?tqx=out:csv&sheet={taxonomy_name}\"\n",
    "taxonomy = pd.read_csv(taxonomy_url)\n",
    "\n",
    "synonym_url = f\"https://docs.google.com/spreadsheets/d/{sheet_id}/gviz/tq?tqx=out:csv&sheet={synonym_name}\"\n",
    "synonyms = pd.read_csv(synonym_url)"
   ]
  },
  {
   "cell_type": "code",
   "execution_count": 75,
   "metadata": {},
   "outputs": [],
   "source": [
    "taxonomy_sons_index = taxonomy.groupby(\"from\").groups\n",
    "taxonomy_sons = {}\n",
    "for parent in taxonomy_sons_index:\n",
    "    taxonomy_sons[parent] = list(taxonomy.iloc[taxonomy_sons_index[parent]][\"to\"].values)"
   ]
  },
  {
   "cell_type": "code",
   "execution_count": 76,
   "metadata": {},
   "outputs": [
    {
     "name": "stdout",
     "output_type": "stream",
     "text": [
      "{'allium': ['onion', 'garlic', 'leek', 'chive'], 'cucurbit': ['squash', 'pumpkin', 'zucchini', 'gourd', 'cucumber', 'melon'], 'fruit tree': ['apple', 'apricot', 'pear'], 'legume': ['alfalfa', 'lentil', 'lupin', 'pea', 'peanut', 'soybean', 'clover', 'bush bean', 'pole bean', 'fava bean', 'vetch', 'crownvetch'], 'nightshade': ['tomato', 'potato', 'eggplant', 'chili pepper', 'pepper']}\n"
     ]
    }
   ],
   "source": [
    "print (taxonomy_sons)"
   ]
  },
  {
   "cell_type": "code",
   "execution_count": 77,
   "metadata": {},
   "outputs": [
    {
     "data": {
      "text/html": [
       "<div>\n",
       "<style scoped>\n",
       "    .dataframe tbody tr th:only-of-type {\n",
       "        vertical-align: middle;\n",
       "    }\n",
       "\n",
       "    .dataframe tbody tr th {\n",
       "        vertical-align: top;\n",
       "    }\n",
       "\n",
       "    .dataframe thead th {\n",
       "        text-align: right;\n",
       "    }\n",
       "</style>\n",
       "<table border=\"1\" class=\"dataframe\">\n",
       "  <thead>\n",
       "    <tr style=\"text-align: right;\">\n",
       "      <th></th>\n",
       "      <th>Common name</th>\n",
       "      <th>Type</th>\n",
       "      <th>Scientific name</th>\n",
       "      <th>Helps</th>\n",
       "      <th>Helped by</th>\n",
       "      <th>Attracts</th>\n",
       "      <th>-Repels/+distracts</th>\n",
       "      <th>Avoid</th>\n",
       "      <th>Comments</th>\n",
       "    </tr>\n",
       "  </thead>\n",
       "  <tbody>\n",
       "    <tr>\n",
       "      <th>0</th>\n",
       "      <td>african spider plant</td>\n",
       "      <td>vegetable</td>\n",
       "      <td>Cleome gynandra</td>\n",
       "      <td>NaN</td>\n",
       "      <td>NaN</td>\n",
       "      <td>NaN</td>\n",
       "      <td>NaN</td>\n",
       "      <td>NaN</td>\n",
       "      <td>NaN</td>\n",
       "    </tr>\n",
       "    <tr>\n",
       "      <th>1</th>\n",
       "      <td>alfalfa</td>\n",
       "      <td>other</td>\n",
       "      <td>Medicago sativa</td>\n",
       "      <td>cotton</td>\n",
       "      <td>NaN</td>\n",
       "      <td>assassin bug, big-eyed bug, ladybug, parasitic...</td>\n",
       "      <td>lygus bugs</td>\n",
       "      <td>tomatoes, fava beans</td>\n",
       "      <td>used by farmers to reduce cotton pests, a good...</td>\n",
       "    </tr>\n",
       "    <tr>\n",
       "      <th>2</th>\n",
       "      <td>allium</td>\n",
       "      <td>vegetable</td>\n",
       "      <td>Allium</td>\n",
       "      <td>fruit trees, tomatoes, peppers, potatoes, bras...</td>\n",
       "      <td>carrots, tomatoes, carrots, african spider pla...</td>\n",
       "      <td>thrips</td>\n",
       "      <td>rabbits, slugs, aphids, carrot fly, cabbage lo...</td>\n",
       "      <td>beans, peas</td>\n",
       "      <td>alliums are a family of plants which include o...</td>\n",
       "    </tr>\n",
       "    <tr>\n",
       "      <th>3</th>\n",
       "      <td>alyssum</td>\n",
       "      <td>flower</td>\n",
       "      <td>Lobularia maritima</td>\n",
       "      <td>grapes, lettuce</td>\n",
       "      <td>NaN</td>\n",
       "      <td>predatory insects, minute pirate bugs, parasit...</td>\n",
       "      <td>aphids</td>\n",
       "      <td>NaN</td>\n",
       "      <td>because they attract syrphidae they help reduc...</td>\n",
       "    </tr>\n",
       "    <tr>\n",
       "      <th>4</th>\n",
       "      <td>Angelica archangelica</td>\n",
       "      <td>vegetable</td>\n",
       "      <td>Angelica archangelica</td>\n",
       "      <td>NaN</td>\n",
       "      <td>NaN</td>\n",
       "      <td>NaN</td>\n",
       "      <td>NaN</td>\n",
       "      <td>NaN</td>\n",
       "      <td>NaN</td>\n",
       "    </tr>\n",
       "  </tbody>\n",
       "</table>\n",
       "</div>"
      ],
      "text/plain": [
       "             Common name       Type        Scientific name  \\\n",
       "0   african spider plant  vegetable        Cleome gynandra   \n",
       "1                alfalfa      other        Medicago sativa   \n",
       "2                 allium  vegetable                 Allium   \n",
       "3                alyssum     flower     Lobularia maritima   \n",
       "4  Angelica archangelica  vegetable  Angelica archangelica   \n",
       "\n",
       "                                               Helps  \\\n",
       "0                                                NaN   \n",
       "1                                             cotton   \n",
       "2  fruit trees, tomatoes, peppers, potatoes, bras...   \n",
       "3                                    grapes, lettuce   \n",
       "4                                                NaN   \n",
       "\n",
       "                                           Helped by  \\\n",
       "0                                                NaN   \n",
       "1                                                NaN   \n",
       "2  carrots, tomatoes, carrots, african spider pla...   \n",
       "3                                                NaN   \n",
       "4                                                NaN   \n",
       "\n",
       "                                            Attracts  \\\n",
       "0                                                NaN   \n",
       "1  assassin bug, big-eyed bug, ladybug, parasitic...   \n",
       "2                                             thrips   \n",
       "3  predatory insects, minute pirate bugs, parasit...   \n",
       "4                                                NaN   \n",
       "\n",
       "                                  -Repels/+distracts                 Avoid  \\\n",
       "0                                                NaN                   NaN   \n",
       "1                                         lygus bugs  tomatoes, fava beans   \n",
       "2  rabbits, slugs, aphids, carrot fly, cabbage lo...           beans, peas   \n",
       "3                                             aphids                   NaN   \n",
       "4                                                NaN                   NaN   \n",
       "\n",
       "                                            Comments  \n",
       "0                                                NaN  \n",
       "1  used by farmers to reduce cotton pests, a good...  \n",
       "2  alliums are a family of plants which include o...  \n",
       "3  because they attract syrphidae they help reduc...  \n",
       "4                                                NaN  "
      ]
     },
     "execution_count": 77,
     "metadata": {},
     "output_type": "execute_result"
    }
   ],
   "source": [
    "#df = pd.read_csv(\"companion_plant_wikipedia - after_manual.tsv\", sep=\"\\t\")\n",
    "df.head()"
   ]
  },
  {
   "cell_type": "code",
   "execution_count": 78,
   "metadata": {},
   "outputs": [],
   "source": [
    "synonymes = synonyms.set_index(\"name\")[\"synonym\"].to_dict()"
   ]
  },
  {
   "cell_type": "code",
   "execution_count": 79,
   "metadata": {},
   "outputs": [],
   "source": [
    "nodes_plant = set()\n",
    "nodes_animal = set()\n",
    "\n",
    "nodes_info = {}\n",
    "\n",
    "plant_plant_help = set()\n",
    "plant_plant_avoid = set()\n",
    "node_animal_attract = set()\n",
    "node_animal_repel = set()"
   ]
  },
  {
   "cell_type": "code",
   "execution_count": 80,
   "metadata": {},
   "outputs": [],
   "source": [
    "wrong_singular = [\"asparagus\", \"gladiolus\", \"kentucky bluegrass\", \"Dianthus\", \"lemon grass\", \"rye-grass\", \"sudan grass\", \"Cosmos\", \"cress\"]"
   ]
  },
  {
   "cell_type": "code",
   "execution_count": 81,
   "metadata": {},
   "outputs": [],
   "source": [
    "def normalize(words):\n",
    "    for s in synonymes:\n",
    "        if s in words:\n",
    "            words.remove(s)\n",
    "            words.append(synonymes[s])\n",
    "    \n",
    "    if \"\" in words:\n",
    "        words.remove(\"\")\n",
    "\n",
    "    words = [p.singular_noun(x) if p.singular_noun(x) != False and x not in wrong_singular else x for x in words]\n",
    "\n",
    "    words = [re.sub(r'\\s+', ' ', x) for x in words]\n",
    "\n",
    "    final_word_list = []\n",
    "    for x in words:\n",
    "        if x in taxonomy_sons:\n",
    "            final_word_list += taxonomy_sons[x]\n",
    "        else:\n",
    "            final_word_list.append(x)\n",
    "\n",
    "    return final_word_list"
   ]
  },
  {
   "cell_type": "code",
   "execution_count": 82,
   "metadata": {},
   "outputs": [
    {
     "data": {
      "text/plain": [
       "['alfalfa',\n",
       " 'lentil',\n",
       " 'lupin',\n",
       " 'pea',\n",
       " 'peanut',\n",
       " 'soybean',\n",
       " 'clover',\n",
       " 'bush bean',\n",
       " 'pole bean',\n",
       " 'fava bean',\n",
       " 'vetch',\n",
       " 'crownvetch',\n",
       " 'tomato']"
      ]
     },
     "execution_count": 82,
     "metadata": {},
     "output_type": "execute_result"
    }
   ],
   "source": [
    "normalize([\"legume\", \"tomato\"])"
   ]
  },
  {
   "cell_type": "code",
   "execution_count": 83,
   "metadata": {},
   "outputs": [],
   "source": [
    "\n",
    "\n",
    "for index, row in df.iterrows():\n",
    "    common_names = [row[\"Common name\"]]\n",
    "    common_names = normalize(common_names)\n",
    "    \n",
    "\n",
    "    nodes_plant.update(common_names)\n",
    "\n",
    "\n",
    "    helps = [x.strip() for x in str(row[\"Helps\"]).split(\",\") if not pd.isna(row[\"Helps\"]) ]\n",
    "    helps = normalize(helps)\n",
    "    nodes_plant.update(helps)\n",
    "\n",
    "    for h in helps:\n",
    "        for common_name in common_names:\n",
    "            if h != common_name:\n",
    "                plant_plant_help.add((common_name, h))\n",
    "\n",
    "    helped_by = [x.strip() for x in str(row[\"Helped by\"]).split(\",\") if not pd.isna(row[\"Helped by\"]) ]\n",
    "    helped_by = normalize(helped_by)\n",
    "    nodes_plant.update(helped_by)\n",
    "\n",
    "    for h in helped_by:\n",
    "        for common_name in common_names:\n",
    "            if h != common_name:\n",
    "                plant_plant_help.add((h, common_name))\n",
    "\n",
    "    attracts = [x.strip() for x in str(row[\"Attracts\"]).split(\",\") if not pd.isna(row[\"Attracts\"]) ]\n",
    "    attracts = normalize(attracts)\n",
    "    nodes_animal.update(attracts)\n",
    "\n",
    "    for a in attracts:\n",
    "        for common_name in common_names:\n",
    "            node_animal_attract.add((common_name, a))\n",
    "\n",
    "    repel = [x.strip() for x in str(row[\"-Repels/+distracts\"]).split(\",\") if not pd.isna(row[\"-Repels/+distracts\"]) ]\n",
    "    repel = normalize(repel)\n",
    "    nodes_animal.update(repel)\n",
    "\n",
    "    for r in repel:\n",
    "        for common_name in common_names:\n",
    "            node_animal_repel.add((common_name, r))\n",
    "\n",
    "    avoid = [x.strip() for x in str(row[\"Avoid\"]).split(\",\") if not pd.isna(row[\"Avoid\"]) ]\n",
    "    avoid = normalize(avoid)\n",
    "    nodes_plant.update(avoid)\n",
    "\n",
    "    for a in avoid:\n",
    "        for common_name in common_names:\n",
    "            plant_plant_avoid.add(tuple(sorted(list([common_name, a]))))\n",
    "\n",
    "    sci_name = \"\"\n",
    "    if not pd.isna(row[\"Scientific name\"]):\n",
    "        sci_name = row[\"Scientific name\"]\n",
    "\n",
    "    type = \"\"\n",
    "    if not pd.isna(row[\"Type\"]):\n",
    "        type = row[\"Type\"]\n",
    "\n",
    "    comment = \"\"\n",
    "    if not pd.isna(row[\"Comments\"]):\n",
    "        comment = re.sub(r'\\s+', ' ', row[\"Comments\"])\n",
    "\n",
    "    for common_name in common_names:\n",
    "        if common_name not in nodes_info:\n",
    "            nodes_info[common_name] = {\"scientific name\": sci_name, \"type\": type, \"comment\": comment}\n",
    "        else:\n",
    "            if len(common_names) == 1:\n",
    "                nodes_info[common_name] = {\"scientific name\": sci_name, \"type\": type, \"comment\": comment}"
   ]
  },
  {
   "cell_type": "code",
   "execution_count": 84,
   "metadata": {},
   "outputs": [],
   "source": [
    "if \"almost everything\" in nodes_plant:\n",
    "    nodes_plant.remove(\"almost everything\")"
   ]
  },
  {
   "cell_type": "code",
   "execution_count": 85,
   "metadata": {},
   "outputs": [],
   "source": [
    "\n",
    "\n",
    "content = \"name\\tscientific_name\\ttype\\tcomment\\n\"\n",
    "for n in nodes_plant:\n",
    "    if n in nodes_info:\n",
    "        content += f\"{n}\\t{nodes_info[n]['scientific name']}\\t{nodes_info[n]['type']}\\t{nodes_info[n]['comment']}\\n\"\n",
    "    else:\n",
    "        content += f\"{n}\\t\"\"\\t\"\"\\t\"\"\\n\"\n",
    "\n",
    "output_file = open(\"data/nodes_plant.tsv\", 'w')\n",
    "output_file.write(content)\n",
    "output_file.close()\n"
   ]
  },
  {
   "cell_type": "code",
   "execution_count": 86,
   "metadata": {},
   "outputs": [],
   "source": [
    "content = \"name\\n\"\n",
    "for n in nodes_animal:\n",
    "    content += f\"{n}\\n\"\n",
    "\n",
    "output_file = open(\"data/nodes_animal.tsv\", 'w')\n",
    "output_file.write(content)\n",
    "output_file.close()"
   ]
  },
  {
   "cell_type": "code",
   "execution_count": 87,
   "metadata": {},
   "outputs": [],
   "source": [
    "content = \"from\\tto\\n\"\n",
    "for (from_, to_) in plant_plant_help:\n",
    "    content += f\"{from_}\\t{to_}\\n\"\n",
    "\n",
    "output_file = open(\"data/plant_plant_help.tsv\", 'w')\n",
    "output_file.write(content)\n",
    "output_file.close()"
   ]
  },
  {
   "cell_type": "code",
   "execution_count": 88,
   "metadata": {},
   "outputs": [],
   "source": [
    "content = \"from\\tto\\n\"\n",
    "for (from_, to_) in node_animal_attract:\n",
    "    content += f\"{from_}\\t{to_}\\n\"\n",
    "\n",
    "output_file = open(\"data/node_animal_attract.tsv\", 'w')\n",
    "output_file.write(content)\n",
    "output_file.close()"
   ]
  },
  {
   "cell_type": "code",
   "execution_count": 89,
   "metadata": {},
   "outputs": [],
   "source": [
    "content = \"from\\tto\\n\"\n",
    "for (from_, to_) in node_animal_repel:\n",
    "    content += f\"{from_}\\t{to_}\\n\"\n",
    "\n",
    "output_file = open(\"data/node_animal_repel.tsv\", 'w')\n",
    "output_file.write(content)\n",
    "output_file.close()"
   ]
  },
  {
   "cell_type": "code",
   "execution_count": 90,
   "metadata": {},
   "outputs": [],
   "source": [
    "content = \"from\\tto\\n\"\n",
    "for (from_, to_) in plant_plant_avoid:\n",
    "    content += f\"{from_}\\t{to_}\\n\"\n",
    "\n",
    "output_file = open(\"data/plant_plant_avoid.tsv\", 'w')\n",
    "output_file.write(content)\n",
    "output_file.close()"
   ]
  },
  {
   "cell_type": "code",
   "execution_count": 91,
   "metadata": {},
   "outputs": [],
   "source": [
    "taxonomy.to_csv(\"data/taxonomy.tsv\", sep=\"\\t\", index=False)"
   ]
  },
  {
   "cell_type": "code",
   "execution_count": 92,
   "metadata": {},
   "outputs": [],
   "source": [
    "url = \"bolt://localhost:7687\"\n",
    "driver = GraphDatabase.driver(url, auth=(PARAM[\"neo4j_username\"], PARAM[\"neo4j_password\"]))"
   ]
  },
  {
   "cell_type": "code",
   "execution_count": 93,
   "metadata": {},
   "outputs": [],
   "source": [
    "with driver.session() as session:\n",
    "    # Drop constraints / indices\n",
    "    for constraint in session.run(\"CALL db.constraints\"):\n",
    "\n",
    "        session.run(\"DROP CONSTRAINT \" + constraint[0] + \";\")\n",
    "\n",
    "    # delete all nodes    \n",
    "    session.run(\"MATCH (n) DETACH DELETE n\")"
   ]
  },
  {
   "cell_type": "code",
   "execution_count": 94,
   "metadata": {},
   "outputs": [],
   "source": [
    "src = \"data\"\n",
    "\n",
    "home = str(Path.home())\n",
    "\n",
    "dst = os.path.join(home, \".Neo4jDesktop\", \"relate-data\", \"dbmss\", PARAM[\"neo4j_project_id\"], \"import\")\n",
    "\n",
    "for src_dir, dirs, files in os.walk(src):\n",
    "    for file_ in files:\n",
    "        src_file = os.path.join(src_dir, file_)\n",
    "        dst_file = os.path.join(dst, file_)\n",
    "        shutil.copy(src_file, dst_file)\n"
   ]
  },
  {
   "cell_type": "code",
   "execution_count": 95,
   "metadata": {},
   "outputs": [],
   "source": [
    "for line in open(\"neo4j_command.txt\", 'r'):\n",
    "    if line.strip() != \"\":\n",
    "        with driver.session() as session:\n",
    "            session.run(line.strip())"
   ]
  },
  {
   "cell_type": "code",
   "execution_count": null,
   "metadata": {},
   "outputs": [],
   "source": []
  }
 ],
 "metadata": {
  "kernelspec": {
   "display_name": "Python 3.9.7 ('base')",
   "language": "python",
   "name": "python3"
  },
  "language_info": {
   "codemirror_mode": {
    "name": "ipython",
    "version": 3
   },
   "file_extension": ".py",
   "mimetype": "text/x-python",
   "name": "python",
   "nbconvert_exporter": "python",
   "pygments_lexer": "ipython3",
   "version": "3.9.7"
  },
  "orig_nbformat": 4,
  "vscode": {
   "interpreter": {
    "hash": "ad2bdc8ecc057115af97d19610ffacc2b4e99fae6737bb82f5d7fb13d2f2c186"
   }
  }
 },
 "nbformat": 4,
 "nbformat_minor": 2
}
